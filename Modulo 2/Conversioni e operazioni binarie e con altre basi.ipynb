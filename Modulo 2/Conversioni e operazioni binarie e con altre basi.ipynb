{
 "cells": [
  {
   "cell_type": "markdown",
   "metadata": {},
   "source": [
    "In questo notebook Jupyter Python sono presenti le principali conversioni e operazioni che si possono eseguire/calcolare con i diversi sistemi di numerazione (decimale, ottale, binario, esadecimale, ecc...)"
   ]
  },
  {
   "cell_type": "markdown",
   "metadata": {},
   "source": [
    "# LIBRERIE NECESSARIE"
   ]
  },
  {
   "cell_type": "code",
   "execution_count": null,
   "metadata": {},
   "outputs": [],
   "source": [
    "import time"
   ]
  },
  {
   "cell_type": "markdown",
   "metadata": {},
   "source": [
    "# CONVERTITORE DI NUMERI DA QUALSIASI BASE ALLA BASE DECIMALE"
   ]
  },
  {
   "cell_type": "code",
   "execution_count": null,
   "metadata": {},
   "outputs": [
    {
     "name": "stdout",
     "output_type": "stream",
     "text": [
      "Benvenuto nel convertitore di numeri da qualsiasi base alla base decimale\n",
      "Il numero indicato inserito è: 1011010, quindi le cifre del numero sono: [1, 0, 1, 1, 0, 1, 0]\n",
      "Per prima cosa bisogna analizzare il numero e ordinare le cifre al contrario, quindi le cifre al contrario del numero inserito sono: [0, 1, 0, 1, 1, 0, 1]\n",
      "Poi bisogna moltiplicare ogni cifra per la base 2 elevata alla posizione della cifra stessa, partendo da 0 per la cifra meno significativa (quella a destra)\n",
      "Quindi, il numero 1011010 in base 2 corrisponde a 90 in base decimale.\n"
     ]
    }
   ],
   "source": [
    "def convertitore_numeri_da_base_qualsiasi_a_base_decimale():\n",
    "    print(\"Benvenuto nel convertitore di numeri da qualsiasi base alla base decimale\")\n",
    "    numero_da_convertire=input(\"Inserisci il numero che desideri venga convertito al decimale: \").upper()\n",
    "    base_numero_da_convertire=int(input(\"Inserisci la base in numero (binaria, ottale, esadecimale, ecc...) del numero che desideri venga convertito al decimale: \"))\n",
    "    cifre_sistema_esadecimale={\"A\":10,\"B\":11,\"C\":12,\"D\":13,\"E\":14,\"F\":15,\"0\":0,\"1\":1,\"2\":2,\"3\":3,\"4\":4,\"5\":5,\"6\":6,\"7\":7,\"8\":8,\"9\":9,\"10\":10}\n",
    "    lista_cifre_numero_da_convertire=[cifre_sistema_esadecimale[cifra] for cifra in numero_da_convertire]\n",
    "    lista_invertita_cifre_numero_da_convertire=lista_cifre_numero_da_convertire[::-1]\n",
    "    print(f\"Il numero indicato inserito è: {numero_da_convertire}, quindi le cifre del numero sono: {lista_cifre_numero_da_convertire}\")\n",
    "    print(f\"Per prima cosa bisogna analizzare il numero e ordinare le cifre al contrario, quindi le cifre al contrario del numero inserito sono: {lista_invertita_cifre_numero_da_convertire}\")\n",
    "    print(f\"Poi bisogna moltiplicare ogni cifra per la base {base_numero_da_convertire} elevata alla posizione della cifra stessa, partendo da 0 per la cifra meno significativa (quella a destra)\")\n",
    "    i=-1\n",
    "    calcolo_finale_cifre=[]\n",
    "    lista_cifre_numero_da_convertire=[cifre_sistema_esadecimale[cifra_esadecimale] for cifra_esadecimale in numero_da_convertire]\n",
    "    for cifra_originale in lista_invertita_cifre_numero_da_convertire:\n",
    "        i+=1\n",
    "        cifra_convertite=cifra_originale*(base_numero_da_convertire**i)\n",
    "        calcolo_finale_cifre.append(cifra_convertite)\n",
    "    numero_convertito=sum(calcolo_finale_cifre)\n",
    "    print(f\"Quindi, il numero {numero_da_convertire} in base {base_numero_da_convertire} corrisponde a {numero_convertito} in base decimale.\")\n",
    "convertitore_numeri_da_base_qualsiasi_a_base_decimale()"
   ]
  },
  {
   "cell_type": "markdown",
   "metadata": {},
   "source": [
    "# CONVERTITORE DI NUMERI DALLA BASE DECIMALE AD UN'ALTRA BASE QUALSIASI"
   ]
  },
  {
   "cell_type": "code",
   "execution_count": null,
   "metadata": {
    "notebookRunGroups": {
     "groupValue": "2"
    }
   },
   "outputs": [
    {
     "name": "stdout",
     "output_type": "stream",
     "text": [
      "Benvenuto nel convertitore di numeri dalla base decimale ad un'altra base qualsiasi\n",
      "Per effettuare la conversione, bisogna eseguire delle divisioni successive per la base del numero da convertire. Il numero convertito si ottiene leggendo i resti al contrario\n",
      "Quindi, il numero 2 in base decimale corrisponde a 10 in base 2\n"
     ]
    }
   ],
   "source": [
    "def convertitore_numeri_da_base_decimale_a_base_qualsiasi():\n",
    "    print(\"Benvenuto nel convertitore di numeri dalla base decimale ad un'altra base qualsiasi\")\n",
    "    numero_da_convertire=input(\"Inserisci il numero che desideri venga convertito dalla base decimale ad un'altra base qualsiasi: \").upper()\n",
    "    base_numero_convertito=int(input(\"Inserisci la base in numero (binaria, ottale, esadecimale, ecc...) di cui desideri venga convertito il numero in questione: \"))\n",
    "    print(\"Per effettuare la conversione, bisogna eseguire delle divisioni successive per la base del numero da convertire. Il numero convertito si ottiene leggendo i resti al contrario\")\n",
    "    lista_resti_divisione_ripetuta=[]\n",
    "    numero_da_convertire=int(numero_da_convertire)\n",
    "    quoziente_divisione_ripetuta=numero_da_convertire\n",
    "    while quoziente_divisione_ripetuta!=0:\n",
    "        resto_divisione_ripetuta=quoziente_divisione_ripetuta%base_numero_convertito\n",
    "        if base_numero_convertito==16 and resto_divisione_ripetuta>=10:\n",
    "            resto_divisione_ripetuta=chr(55 + resto_divisione_ripetuta)\n",
    "        lista_resti_divisione_ripetuta.append(str(resto_divisione_ripetuta))\n",
    "        quoziente_divisione_ripetuta=quoziente_divisione_ripetuta//base_numero_convertito\n",
    "    lista_invertita_resti_divisione_ripetuta=lista_resti_divisione_ripetuta[::-1]\n",
    "    numero_convertito=\"\".join(lista_invertita_resti_divisione_ripetuta)\n",
    "    print(f\"Quindi, il numero {numero_da_convertire} in base decimale corrisponde a {numero_convertito} in base {base_numero_convertito}\")\n",
    "convertitore_numeri_da_base_decimale_a_base_qualsiasi()"
   ]
  },
  {
   "cell_type": "markdown",
   "metadata": {},
   "source": [
    "# CONVERTITORE DI NUMERI DA UNA QUALSIASI BASE NON DECIMALE AD UN'ALTRA BASE NON DECIMALE"
   ]
  },
  {
   "cell_type": "code",
   "execution_count": null,
   "metadata": {},
   "outputs": [
    {
     "name": "stdout",
     "output_type": "stream",
     "text": [
      "Benvenuto nel convertitore di numeri da qualsiasi base ad un numero con qualsiasi base!\n",
      "Il numero 1011010 con base 2 convertito in base 8 corrisponde a 55\n"
     ]
    }
   ],
   "source": [
    "def convertitore_numeri_da_base_qualsiasi_a_base_qualsiasi():\n",
    "    print(\"Benvenuto nel convertitore di numeri da qualsiasi base ad un numero con qualsiasi base!\")\n",
    "    cifre_sistema_esadecimale={\"A\":10,\"B\":11,\"C\":12,\"D\":13,\"E\":14,\"F\":15,\"0\":0,\"1\":1,\"2\":2,\"3\":3,\"4\":4,\"5\":5,\"6\":6,\"7\":7,\"8\":8,\"9\":9}\n",
    "    numero_da_convertire=input(\"Inserisci il numero che desideri venga convertito: \").upper()\n",
    "    base_numero_da_convertire=int(input(\"Inserisci la base del numero originale (es. 2, 8, 10, 16): \"))\n",
    "    base_numero_convertito=int(input(\"Inserisci la base del numero di cui desideri venga convertito il numero (es. 2, 8, 10, 16): \"))\n",
    "    if base_numero_da_convertire==base_numero_convertito:\n",
    "        print(\"Le due basi inserite sono uguali. Riprovare inserendo basi diverse.\")\n",
    "        convertitore_numeri_da_base_qualsiasi_a_base_qualsiasi()\n",
    "    numero_decimale=0\n",
    "    for i,cifra in enumerate(numero_da_convertire):\n",
    "        numero_decimale=numero_decimale+cifre_sistema_esadecimale[cifra]*(base_numero_da_convertire**i)\n",
    "    if numero_decimale==0:\n",
    "        numero_convertito=\"0\"\n",
    "    else:\n",
    "        cifre=\"0123456789ABCDEF\"\n",
    "        numero_convertito=\"\"\n",
    "        while numero_decimale>0:\n",
    "            numero_convertito=cifre[numero_decimale%base_numero_convertito]+numero_convertito\n",
    "            numero_decimale=numero_decimale//base_numero_convertito\n",
    "    print(f\"Il numero {numero_da_convertire} con base {base_numero_da_convertire} convertito in base {base_numero_convertito} corrisponde a {numero_convertito}\")\n",
    "convertitore_numeri_da_base_qualsiasi_a_base_qualsiasi()"
   ]
  },
  {
   "cell_type": "markdown",
   "metadata": {},
   "source": [
    "# CALCOLATORE DEL COMPLEMENTO A 1 (CA1) DI UN NUMERO BINARIO"
   ]
  },
  {
   "cell_type": "code",
   "execution_count": null,
   "metadata": {},
   "outputs": [
    {
     "name": "stdout",
     "output_type": "stream",
     "text": [
      "Benvenuto nel calcolatore del CA1 (complemento a 1) di un numero binario\n",
      "Per calcolare il CA1 (complemento a 1) di un qualsiasi numero binario basta transformare ogni 0 in 1 e viceversa\n",
      "Quindi, il CA1 (complemento a 1) del numero binario 101111101 è 010000010\n"
     ]
    }
   ],
   "source": [
    "def complemento_a_1():\n",
    "    print(\"Benvenuto nel calcolatore del CA1 (complemento a 1) di un numero binario\")\n",
    "    numero_originale=int(input(\"Inserisci il numero binario di cui desideri calcolare il CA1 (complemento a 1) del numero in questione: \"))\n",
    "    print(\"Per calcolare il CA1 (complemento a 1) di un qualsiasi numero binario basta transformare ogni 0 in 1 e viceversa\")\n",
    "    lista_bit_numero_da_calcolare=[int(bit) for bit in str(numero_originale)]\n",
    "    lista_bit_ribaltata_numero_da_calcolare=lista_bit_numero_da_calcolare\n",
    "    for i in range(len(lista_bit_ribaltata_numero_da_calcolare)):\n",
    "        if lista_bit_ribaltata_numero_da_calcolare[i]==0:\n",
    "            lista_bit_ribaltata_numero_da_calcolare[i]=1\n",
    "        else:\n",
    "            lista_bit_ribaltata_numero_da_calcolare[i]=0\n",
    "    numero_CA1=map(str, lista_bit_ribaltata_numero_da_calcolare)\n",
    "    numero_CA1=\"\".join(numero_CA1)\n",
    "    print(f\"Quindi, il CA1 (complemento a 1) del numero binario {numero_originale} è {numero_CA1}\")\n",
    "complemento_a_1()"
   ]
  },
  {
   "cell_type": "markdown",
   "metadata": {},
   "source": [
    "# CALCOLATORE DEL COMPLEMENTO A 2 (CA2) DI UN NUMERO BINARIO"
   ]
  },
  {
   "cell_type": "code",
   "execution_count": null,
   "metadata": {},
   "outputs": [
    {
     "name": "stdout",
     "output_type": "stream",
     "text": [
      "Benvenuto nel calcolatore del CA2 (complemento a 2) di un numero binario\n",
      "Per calcolare il CA2 (complemento a 2) di un qualsiasi numero binario bisogna prima calcolare il valore del CA1 (complemento a 1) e poi sommare a quest'ultimo 1 in binario\n",
      "Quindi, il complemento a 2 (CA2) del numero binario 101111101 è 10000011\n"
     ]
    }
   ],
   "source": [
    "def complemento_a_2():\n",
    "    print(\"Benvenuto nel calcolatore del CA2 (complemento a 2) di un numero binario\")\n",
    "    numero_originale=int(input(\"Inserisci il numero binario di cui desideri calcolare il CA2 del numero in questione: \"))\n",
    "    print(\"Per calcolare il CA2 (complemento a 2) di un qualsiasi numero binario bisogna prima calcolare il valore del CA1 (complemento a 1) e poi sommare a quest'ultimo 1 in binario\")\n",
    "    lista_bit_numero_da_calcolare=[int(bit) for bit in str(numero_originale)]\n",
    "    lista_bit_ribaltata_numero_da_calcolare=lista_bit_numero_da_calcolare\n",
    "    for i in range(len(lista_bit_ribaltata_numero_da_calcolare)):\n",
    "        if lista_bit_ribaltata_numero_da_calcolare[i]==0:\n",
    "            lista_bit_ribaltata_numero_da_calcolare[i]=1\n",
    "        else:\n",
    "            lista_bit_ribaltata_numero_da_calcolare[i]=0\n",
    "    numero_CA1=map(str, lista_bit_ribaltata_numero_da_calcolare)\n",
    "    numero_CA1=\"\".join(numero_CA1)\n",
    "    numero_CA2=int(numero_CA1, 2)\n",
    "    numero_CA2=numero_CA2+1\n",
    "    numero_CA2=bin(numero_CA2)\n",
    "    numero_CA2=numero_CA2[2:]\n",
    "    print(f\"Quindi, il complemento a 2 (CA2) del numero binario {numero_originale} è {numero_CA2}\")\n",
    "complemento_a_2()"
   ]
  },
  {
   "cell_type": "markdown",
   "metadata": {},
   "source": [
    "# MENÙ DI SCELTA DEL PROGRAMMA DESIDERATO"
   ]
  },
  {
   "cell_type": "code",
   "execution_count": null,
   "metadata": {},
   "outputs": [
    {
     "name": "stdout",
     "output_type": "stream",
     "text": [
      "Benvenuto, con questo tool è possibile effettuare le principali conversioni e operazioni che si possono eseguire/calcolare con i diversi sistemi di numerazione (decimale, ottale, binario, esadecimale, ecc...)\n",
      "È stato selezionato il programma numero 5\n",
      "Benvenuto nel calcolatore del CA2 (complemento a 2) di un numero binario\n",
      "Per calcolare il CA2 (complemento a 2) di un qualsiasi numero binario bisogna prima calcolare il valore del CA1 (complemento a 1) e poi sommare a quest'ultimo 1 in binario\n",
      "Quindi, il complemento a 2 (CA2) del numero binario 111101 è 11\n",
      "Grazie per aver usato questo tool, il programma verrà chiuso a momenti. Alla prossima!\n"
     ]
    }
   ],
   "source": [
    "def menù_scelta_programma():\n",
    "    print(\"Benvenuto, con questo tool è possibile effettuare le principali conversioni e operazioni che si possono eseguire/calcolare con i diversi sistemi di numerazione (decimale, ottale, binario, esadecimale, ecc...)\")\n",
    "    programma_scelto=input(\"\"\"Selezionare il programma più adatto alle proprie esigenze (scrivere il numero associato):\\n\n",
    "    1) Convertitore di numeri da qualsiasi base alla base decimale\\n\n",
    "    2) Convertitore di numeri dalla base decimale ad un'altra base qualsiasi\\n\n",
    "    3) Convertitore di numeri da una qualsiasi base non decimale ad un'altra base non decimale\\n\n",
    "    4) Calcolatore del complemento a 2 (CA2) di un numero binario\\n\n",
    "    5) Calcolatore del complemento a 2 (CA2) di un numero binario\"\"\")\n",
    "    print(f\"È stato selezionato il programma numero {programma_scelto}\")\n",
    "    if programma_scelto==\"1\":\n",
    "        convertitore_numeri_da_base_qualsiasi_a_base_decimale()\n",
    "        riavvio_programma=input(\"Si desidera selezionare nuovamente un programma di questo tool? (rispondere solo con s/n)\")\n",
    "        if riavvio_programma==\"s\":\n",
    "            print(\"Il tool verrà riavviato a momenti\")\n",
    "            menù_scelta_programma()\n",
    "            time.sleep(1)\n",
    "        elif riavvio_programma==\"n\":\n",
    "            print(\"Grazie per aver usato questo tool, il programma verrà chiuso a momenti. Alla prossima!\")\n",
    "            time.sleep(3)\n",
    "        else:\n",
    "            print(\"Risposta non riconosciuta! Il tool verrà riavviato comunque\")\n",
    "            menù_scelta_programma()\n",
    "            time.sleep(1)\n",
    "    elif programma_scelto==\"2\":\n",
    "        convertitore_numeri_da_base_decimale_a_base_qualsiasi()\n",
    "        riavvio_programma=input(\"Si desidera selezionare nuovamente un programma di questo tool? (rispondere solo con s/n)\")\n",
    "        if riavvio_programma==\"s\":\n",
    "            print(\"Il tool verrà riavviato a momenti\")\n",
    "            menù_scelta_programma()\n",
    "            time.sleep(1)\n",
    "        elif riavvio_programma==\"n\":\n",
    "            print(\"Grazie per aver usato questo tool, il programma verrà chiuso a momenti. Alla prossima!\")\n",
    "            time.sleep(3)\n",
    "        else:\n",
    "            print(\"Risposta non riconosciuta! Il tool verrà riavviato comunque\")\n",
    "            menù_scelta_programma()\n",
    "            time.sleep(1)\n",
    "    elif programma_scelto==\"3\":\n",
    "        convertitore_numeri_da_base_qualsiasi_a_base_qualsiasi()\n",
    "        riavvio_programma=input(\"Si desidera selezionare nuovamente un programma di questo tool? (rispondere solo con s/n)\")\n",
    "        if riavvio_programma==\"s\":\n",
    "            print(\"Il tool verrà riavviato a momenti\")\n",
    "            menù_scelta_programma()\n",
    "            time.sleep(1)\n",
    "        elif riavvio_programma==\"n\":\n",
    "            print(\"Grazie per aver usato questo tool, il programma verrà chiuso a momenti. Alla prossima!\")\n",
    "            time.sleep(3)\n",
    "        else:\n",
    "            print(\"Risposta non riconosciuta! Il tool verrà riavviato comunque\")\n",
    "            menù_scelta_programma()\n",
    "            time.sleep(1)\n",
    "    elif programma_scelto==\"4\":\n",
    "        complemento_a_1()\n",
    "        riavvio_programma=input(\"Si desidera selezionare nuovamente un programma di questo tool? (rispondere solo con s/n)\")\n",
    "        if riavvio_programma==\"s\":\n",
    "            print(\"Il tool verrà riavviato a momenti\")\n",
    "            menù_scelta_programma()\n",
    "            time.sleep(1)\n",
    "        elif riavvio_programma==\"n\":\n",
    "            print(\"Grazie per aver usato questo tool, il programma verrà chiuso a momenti. Alla prossima!\")\n",
    "            time.sleep(3)\n",
    "        else:\n",
    "            print(\"Risposta non riconosciuta! Il tool verrà riavviato comunque\")\n",
    "            menù_scelta_programma()\n",
    "            time.sleep(1)\n",
    "    elif programma_scelto==\"5\":\n",
    "        complemento_a_2()\n",
    "        riavvio_programma=input(\"Si desidera selezionare nuovamente un programma di questo tool? (rispondere solo con s/n)\")\n",
    "        if riavvio_programma==\"s\":\n",
    "            print(\"Il tool verrà riavviato a momenti\")\n",
    "            menù_scelta_programma()\n",
    "            time.sleep(1)\n",
    "        elif riavvio_programma==\"n\":\n",
    "            print(\"Grazie per aver usato questo tool, il programma verrà chiuso a momenti. Alla prossima!\")\n",
    "            time.sleep(3)\n",
    "        else:\n",
    "            print(\"Risposta non riconosciuta! Il tool verrà riavviato comunque\")\n",
    "            menù_scelta_programma()\n",
    "            time.sleep(1)\n",
    "    else:\n",
    "        print(\"Il programma selezionato non è esistente. Riprovare con un programma presente nell'elenco iniziale\")\n",
    "        menù_scelta_programma()\n",
    "        time.sleep(1)\n",
    "menù_scelta_programma()"
   ]
  }
 ],
 "metadata": {
  "kernelspec": {
   "display_name": "base",
   "language": "python",
   "name": "python3"
  },
  "language_info": {
   "codemirror_mode": {
    "name": "ipython",
    "version": 3
   },
   "file_extension": ".py",
   "mimetype": "text/x-python",
   "name": "python",
   "nbconvert_exporter": "python",
   "pygments_lexer": "ipython3",
   "version": "3.11.4"
  }
 },
 "nbformat": 4,
 "nbformat_minor": 2
}
